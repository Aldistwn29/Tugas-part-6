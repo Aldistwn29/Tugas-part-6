{
 "cells": [
  {
   "cell_type": "markdown",
   "id": "aea60153",
   "metadata": {},
   "source": [
    "1.Sebuah wahana bermain 'Disney Island' akan memberikan tarif sesuai dengan tinggi dan umur anak dengan ketentuan sebagai berikut:\n",
    "* Umur kurang dari 2 tahun: Tampilkan 'Dilarang masuk'\n",
    "* Umur kurang dari 4 tahun: Rp 30.000. Jika tinggi anak umur 2-3 tahun melebihi 70 cm maka tarif akan bertambah 10.000\n",
    "* Umur kurang dari 7 tahun: Rp 40.000. Jika tinggi anak umur 4-6 tahun melebih 120 cm maka tarif akan bertambah 15.000\n",
    "* Umur kurang dari 10 tahun: Rp 50.000. Jika tinggi anak umur 8-9 tahun melebih 150 cm maka tarif akan bertambah 20.000\n",
    "* Umur 10 tahun keatas: Rp 80.000\n",
    "\n",
    "Buatlah program untuk menampilkan tarif harga sesuai umur dan tinggi seorang anak!\n",
    "\n"
   ]
  },
  {
   "cell_type": "code",
   "execution_count": 20,
   "id": "a0a918e5",
   "metadata": {},
   "outputs": [
    {
     "name": "stdout",
     "output_type": "stream",
     "text": [
      "===LIST TARIF DISNEY ISLANAND===\n",
      "masukkan umur = 9\n",
      "masukkan tinggi badan = 170\n",
      "harga untuk anak umur 9 tahun dengan tinggi 170 cm dan 70000 rupiah\n"
     ]
    }
   ],
   "source": [
    "print(\"===LIST TARIF DISNEY ISLANAND===\")\n",
    "\n",
    "umur = int(input(\"masukkan umur = \"))\n",
    "tinggi = int(input(\"masukkan tinggi badan = \"))\n",
    "harga = 0\n",
    "textHarga = \"harga untuk anak umur {} tahun dengan tinggi {} cm dan {} rupiah\"\n",
    "if (umur < 2):\n",
    "    print(\"DILARANG MASUK\")\n",
    "elif (umur < 4):\n",
    "    harga += 30_000\n",
    "    if(tinggi > 70):\n",
    "        harga += 10_000\n",
    "    print(textHarga.format(umur,tinggi,harga))\n",
    "elif (umur < 7):\n",
    "    harga += 40_000\n",
    "    if(tinggi > 120):\n",
    "        harga += 15_000\n",
    "    print(textHarga.format(umur,tinggi,harga))\n",
    "elif (umur < 10):\n",
    "    harga += 50_000\n",
    "    if(tinggi > 150):\n",
    "        harga += 20_000\n",
    "    print(textHarga.format(umur,tinggi,harga))\n",
    "else :\n",
    "    harga = 80_000\n",
    "    print(textHarga.format(umur,tinggi,harga))\n",
    "    \n",
    "        \n",
    "\n",
    "    "
   ]
  },
  {
   "cell_type": "markdown",
   "id": "b803f30b",
   "metadata": {},
   "source": [
    "2.Terdapat sebuah jurnal yang menuliskan teorinya bahwa olahraga dapat membakar kalori yang terkandung dalam tubuh manusia. Hal tersebut berbanding lurus dengan lama waktu yang dilakukan. Berikut ini adalah beberapa teori tersebut:\n",
    "* Olahraga lari membakar 60 kalori setiap 5 menit.\n",
    "* Olahraga push-up membakar 200 kalori setiap 30 menit\n",
    "* Olahraga plank membakar 5 kalori selama 1 menit\n",
    "\n",
    "Buatlah program berdasarkan uraian tersebut untuk menghitung berapa jumlah kalori yang terbakar setelah melakukan aktivitas olahraga tersebut dengan ketentuan setiap orang boleh melakukan aktivitasnya lebih dari 1 (satu).\n"
   ]
  },
  {
   "cell_type": "code",
   "execution_count": 2,
   "id": "6dde9080",
   "metadata": {},
   "outputs": [
    {
     "name": "stdout",
     "output_type": "stream",
     "text": [
      "apakah kamu melakukan olahraga lari? jawaban ya/tidakya\n",
      "berapa menit anda belari = 5\n",
      "apakah kamu melakukan olahraga pushUp? jawaban ya/tidakya\n",
      "berapa menit anda pushUp = 5\n",
      "apakah kamu melakukan olahraga plank? jawaban ya/tidakya\n",
      "berapa menit anda plank = 5\n",
      "\n",
      "Kalori yg terbakar dari tubuhmu adalah 102 kalori\n"
     ]
    }
   ],
   "source": [
    "kalori = 0\n",
    "\n",
    "lari = input(\"apakah kamu melakukan olahraga lari? jawaban ya/tidak\") == 'ya'\n",
    "if (lari):\n",
    "    menit = int(input(\"berapa menit anda belari = \"))\n",
    "    kalori += menit*(60/5)\n",
    "pushUp = input(\"apakah kamu melakukan olahraga pushUp? jawaban ya/tidak\") == 'ya'\n",
    "if (pushUp):\n",
    "    menit = int(input(\"berapa menit anda pushUp = \"))\n",
    "    kalori += menit*(200/60)\n",
    "plank = input(\"apakah kamu melakukan olahraga plank? jawaban ya/tidak\") == 'ya'\n",
    "if (plank):\n",
    "    menit = int(input(\"berapa menit anda plank = \"))\n",
    "    kalori += menit*5\n",
    "\n",
    "kalori = round(kalori)\n",
    "\n",
    "if (kalori > 0):\n",
    "    print(f\"\\nKalori yg terbakar dari tubuhmu adalah {kalori} kalori\" )\n",
    "else :\n",
    "    print(\"\\nTidak ada kalori yg terbakar, kamu tidak berolahraga : \")\n",
    "\n"
   ]
  }
 ],
 "metadata": {
  "kernelspec": {
   "display_name": "Python 3 (ipykernel)",
   "language": "python",
   "name": "python3"
  },
  "language_info": {
   "codemirror_mode": {
    "name": "ipython",
    "version": 3
   },
   "file_extension": ".py",
   "mimetype": "text/x-python",
   "name": "python",
   "nbconvert_exporter": "python",
   "pygments_lexer": "ipython3",
   "version": "3.9.13"
  }
 },
 "nbformat": 4,
 "nbformat_minor": 5
}
